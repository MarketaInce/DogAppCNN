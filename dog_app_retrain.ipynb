{
 "cells": [
  {
   "cell_type": "markdown",
   "metadata": {},
   "source": [
    "# Convolutional Neural Networks\n",
    "\n",
    "## Project: Write an Algorithm for a Dog Identification App \n",
    "\n",
    "---\n",
    "\n",
    "In this notebook, some template code has already been provided for you, and you will need to implement additional functionality to successfully complete this project. You will not need to modify the included code beyond what is requested. Sections that begin with **'(IMPLEMENTATION)'** in the header indicate that the following block of code will require additional functionality which you must provide. Instructions will be provided for each section, and the specifics of the implementation are marked in the code block with a 'TODO' statement. Please be sure to read the instructions carefully! \n",
    "\n",
    "> **Note**: Once you have completed all of the code implementations, you need to finalize your work by exporting the Jupyter Notebook as an HTML document. Before exporting the notebook to html, all of the code cells need to have been run so that reviewers can see the final implementation and output. You can then export the notebook by using the menu above and navigating to **File -> Download as -> HTML (.html)**. Include the finished document along with this notebook as your submission.\n",
    "\n",
    "In addition to implementing code, there will be questions that you must answer which relate to the project and your implementation. Each section where you will answer a question is preceded by a **'Question X'** header. Carefully read each question and provide thorough answers in the following text boxes that begin with **'Answer:'**. Your project submission will be evaluated based on your answers to each of the questions and the implementation you provide.\n",
    "\n",
    ">**Note:** Code and Markdown cells can be executed using the **Shift + Enter** keyboard shortcut.  Markdown cells can be edited by double-clicking the cell to enter edit mode.\n",
    "\n",
    "The rubric contains _optional_ \"Stand Out Suggestions\" for enhancing the project beyond the minimum requirements. If you decide to pursue the \"Stand Out Suggestions\", you should include the code in this Jupyter notebook.\n",
    "\n",
    "\n",
    "\n",
    "---\n",
    "### Why We're Here \n",
    "\n",
    "In this notebook, you will make the first steps towards developing an algorithm that could be used as part of a mobile or web app.  At the end of this project, your code will accept any user-supplied image as input.  If a dog is detected in the image, it will provide an estimate of the dog's breed.  If a human is detected, it will provide an estimate of the dog breed that is most resembling.  The image below displays potential sample output of your finished project (... but we expect that each student's algorithm will behave differently!). \n",
    "\n",
    "![Sample Dog Output](images/sample_dog_output.png)\n",
    "\n",
    "In this real-world setting, you will need to piece together a series of models to perform different tasks; for instance, the algorithm that detects humans in an image will be different from the CNN that infers dog breed.  There are many points of possible failure, and no perfect algorithm exists.  Your imperfect solution will nonetheless create a fun user experience!\n",
    "\n",
    "### The Road Ahead\n",
    "\n",
    "We break the notebook into separate steps.  Feel free to use the links below to navigate the notebook.\n",
    "\n",
    "* [Step 0](#step0): Import Datasets\n",
    "* [Step 1](#step1): Detect Humans\n",
    "* [Step 2](#step2): Detect Dogs\n",
    "* [Step 3](#step3): Create a CNN to Classify Dog Breeds (from Scratch)\n",
    "* [Step 4](#step4): Create a CNN to Classify Dog Breeds (using Transfer Learning)\n",
    "* [Step 5](#step5): Write your Algorithm\n",
    "* [Step 6](#step6): Test Your Algorithm\n",
    "\n",
    "---\n",
    "<a id='step0'></a>\n",
    "## Step 0: Import Datasets\n",
    "\n",
    "Make sure that you've downloaded the required human and dog datasets:\n",
    "\n",
    "**Note: if you are using the Udacity workspace, you *DO NOT* need to re-download these - they can be found in the `/data` folder as noted in the cell below.**\n",
    "\n",
    "* Download the [dog dataset](https://s3-us-west-1.amazonaws.com/udacity-aind/dog-project/dogImages.zip).  Unzip the folder and place it in this project's home directory, at the location `/dog_images`. \n",
    "\n",
    "* Download the [human dataset](https://s3-us-west-1.amazonaws.com/udacity-aind/dog-project/lfw.zip).  Unzip the folder and place it in the home directory, at location `/lfw`.  \n",
    "\n",
    "*Note: If you are using a Windows machine, you are encouraged to use [7zip](http://www.7-zip.org/) to extract the folder.*\n",
    "\n",
    "In the code cell below, we save the file paths for both the human (LFW) dataset and dog dataset in the numpy arrays `human_files` and `dog_files`."
   ]
  },
  {
   "cell_type": "code",
   "execution_count": 1,
   "metadata": {},
   "outputs": [],
   "source": [
    "# Import packages.\n",
    "\n",
    "import numpy as np\n",
    "from glob import glob\n",
    "from PIL import Image\n",
    "import torchvision.transforms as transforms\n",
    "# from tqdm import tqdm\n",
    "import torch\n",
    "import torchvision.models as models\n",
    "import torch.nn as nn\n",
    "import torch.nn.functional as F\n",
    "import torch.optim as optim\n",
    "import os\n",
    "from torchvision import datasets\n",
    "from collections import OrderedDict\n",
    "import json\n",
    "\n",
    "# Allow loading truncated images.\n",
    "from PIL import ImageFile\n",
    "#ImageFile.LOAD_TRUNCATED_IMAGES = True\n",
    "\n",
    "import cv2                \n",
    "import matplotlib.pyplot as plt                        \n",
    "%matplotlib inline   "
   ]
  },
  {
   "cell_type": "code",
   "execution_count": null,
   "metadata": {},
   "outputs": [],
   "source": [
    "from google.colab import drive\n",
    "drive.mount('/content/drive/')"
   ]
  },
  {
   "cell_type": "code",
   "execution_count": 2,
   "metadata": {},
   "outputs": [
    {
     "data": {
      "text/plain": [
       "True"
      ]
     },
     "execution_count": 2,
     "metadata": {},
     "output_type": "execute_result"
    }
   ],
   "source": [
    "# Check if CUDA is available.\n",
    "use_cuda = torch.cuda.is_available()\n",
    "use_cuda"
   ]
  },
  {
   "cell_type": "code",
   "execution_count": 3,
   "metadata": {},
   "outputs": [
    {
     "name": "stdout",
     "output_type": "stream",
     "text": [
      "There are 13233 total human images.\n",
      "There are 8351 total dog images.\n"
     ]
    }
   ],
   "source": [
    "# load filenames for human and dog images.\n",
    "human_files = np.array(glob(\"./data/lfw/*/*\"))\n",
    "dog_files = np.array(glob(\"./data/dog_images/*/*/*\"))\n",
    "\n",
    "# Print number of images in each dataset.\n",
    "print('There are %d total human images.' % len(human_files))\n",
    "print('There are %d total dog images.' % len(dog_files))"
   ]
  },
  {
   "cell_type": "markdown",
   "metadata": {},
   "source": [
    "<a id='step1'></a>\n",
    "## Step 1: Detect Humans\n",
    "\n",
    "In this section, we use OpenCV's implementation of [Haar feature-based cascade classifiers](http://docs.opencv.org/trunk/d7/d8b/tutorial_py_face_detection.html) to detect human faces in images.  \n",
    "\n",
    "OpenCV provides many pre-trained face detectors, stored as XML files on [github](https://github.com/opencv/opencv/tree/master/data/haarcascades).  We have downloaded one of these detectors and stored it in the `haarcascades` directory.  In the next code cell, we demonstrate how to use this detector to find human faces in a sample image."
   ]
  },
  {
   "cell_type": "code",
   "execution_count": null,
   "metadata": {},
   "outputs": [],
   "source": [
    "# extract pre-trained face detector\n",
    "face_cascade = cv2.CascadeClassifier('haarcascades/haarcascade_frontalface_alt.xml')\n",
    "\n",
    "# load color (BGR) image\n",
    "img = cv2.imread(human_files[0])\n",
    "# convert BGR image to grayscale\n",
    "gray = cv2.cvtColor(img, cv2.COLOR_BGR2GRAY)\n",
    "\n",
    "# find faces in image\n",
    "faces = face_cascade.detectMultiScale(gray)\n",
    "\n",
    "# print number of faces detected in the image\n",
    "print('Number of faces detected:', len(faces))\n",
    "\n",
    "# get bounding box for each detected face\n",
    "for (x,y,w,h) in faces:\n",
    "    # add bounding box to color image\n",
    "    cv2.rectangle(img,(x,y),(x+w,y+h),(255,0,0),2)\n",
    "    \n",
    "# convert BGR image to RGB for plotting\n",
    "cv_rgb = cv2.cvtColor(img, cv2.COLOR_BGR2RGB)\n",
    "\n",
    "# display the image, along with bounding box\n",
    "plt.imshow(cv_rgb)\n",
    "plt.show()"
   ]
  },
  {
   "cell_type": "markdown",
   "metadata": {},
   "source": [
    "Before using any of the face detectors, it is standard procedure to convert the images to grayscale.  The `detectMultiScale` function executes the classifier stored in `face_cascade` and takes the grayscale image as a parameter.  \n",
    "\n",
    "In the above code, `faces` is a numpy array of detected faces, where each row corresponds to a detected face.  Each detected face is a 1D array with four entries that specifies the bounding box of the detected face.  The first two entries in the array (extracted in the above code as `x` and `y`) specify the horizontal and vertical positions of the top left corner of the bounding box.  The last two entries in the array (extracted here as `w` and `h`) specify the width and height of the box.\n",
    "\n",
    "### Write a Human Face Detector\n",
    "\n",
    "We can use this procedure to write a function that returns `True` if a human face is detected in an image and `False` otherwise.  This function, aptly named `face_detector`, takes a string-valued file path to an image as input and appears in the code block below."
   ]
  },
  {
   "cell_type": "code",
   "execution_count": null,
   "metadata": {},
   "outputs": [],
   "source": [
    "# returns \"True\" if face is detected in image stored at img_path\n",
    "def face_detector(img_path):\n",
    "    img = cv2.imread(img_path)\n",
    "    gray = cv2.cvtColor(img, cv2.COLOR_BGR2GRAY)\n",
    "    faces = face_cascade.detectMultiScale(gray)\n",
    "    return len(faces) > 0"
   ]
  },
  {
   "cell_type": "markdown",
   "metadata": {},
   "source": [
    "### (IMPLEMENTATION) Assess the Human Face Detector\n",
    "\n",
    "__Question 1:__ Use the code cell below to test the performance of the `face_detector` function.  \n",
    "- What percentage of the first 100 images in `human_files` have a detected human face?  \n",
    "- What percentage of the first 100 images in `dog_files` have a detected human face? \n",
    "\n",
    "Ideally, we would like 100% of human images with a detected face and 0% of dog images with a detected face.  You will see that our algorithm falls short of this goal, but still gives acceptable performance.  We extract the file paths for the first 100 images from each of the datasets and store them in the numpy arrays `human_files_short` and `dog_files_short`."
   ]
  },
  {
   "cell_type": "markdown",
   "metadata": {},
   "source": [
    "__Answer:__ \n",
    "(You can print out your results and/or write your percentages in this cell)"
   ]
  },
  {
   "cell_type": "code",
   "execution_count": null,
   "metadata": {},
   "outputs": [],
   "source": [
    "# Identify human faces.\n",
    "\n",
    "human_files_short = human_files[:100]\n",
    "dog_files_short = dog_files[:100]\n",
    "\n",
    "#-#-# Do NOT modify the code above this line. #-#-#\n",
    "\n",
    "# Detect human faces in both sets.\n",
    "H_human_detected = [face_detector(file) for file in human_files_short]\n",
    "D_human_detected = [face_detector(file) for file in dog_files_short]\n",
    "\n",
    "# Print percentage of detected faces of both sets.\n",
    "print(f'{100*sum(H_human_detected)/len(human_files_short):.1f}% of faces were detected in \\'human_files_short\\'.')\n",
    "print(f'{100*sum(D_human_detected)/len(human_files_short):.1f}% of faces were detected in \\'dog_files_short\\'.')"
   ]
  },
  {
   "cell_type": "markdown",
   "metadata": {},
   "source": [
    "We suggest the face detector from OpenCV as a potential way to detect human images in your algorithm, but you are free to explore other approaches, especially approaches that make use of deep learning :).  Please use the code cell below to design and test your own face detection algorithm.  If you decide to pursue this _optional_ task, report performance on `human_files_short` and `dog_files_short`."
   ]
  },
  {
   "cell_type": "markdown",
   "metadata": {},
   "source": [
    "---\n",
    "<a id='step2'></a>\n",
    "## Step 2: Detect Dogs\n",
    "\n",
    "In this section, we use a [pre-trained model](http://pytorch.org/docs/master/torchvision/models.html) to detect dogs in images.  \n",
    "\n",
    "### Obtain Pre-trained VGG-16 Model\n",
    "\n",
    "The code cell below downloads the VGG-16 model, along with weights that have been trained on [ImageNet](http://www.image-net.org/), a very large, very popular dataset used for image classification and other vision tasks.  ImageNet contains over 10 million URLs, each linking to an image containing an object from one of [1000 categories](https://gist.github.com/yrevar/942d3a0ac09ec9e5eb3a).  "
   ]
  },
  {
   "cell_type": "code",
   "execution_count": null,
   "metadata": {},
   "outputs": [],
   "source": [
    "# Define VGG16 model.\n",
    "VGG16 = models.vgg16(pretrained=True)\n",
    "\n",
    "# Move model to GPU if CUDA is available.\n",
    "if use_cuda:\n",
    "    VGG16 = VGG16.cuda()"
   ]
  },
  {
   "cell_type": "markdown",
   "metadata": {},
   "source": [
    "Given an image, this pre-trained VGG-16 model returns a prediction (derived from the 1000 possible categories in ImageNet) for the object that is contained in the image."
   ]
  },
  {
   "cell_type": "markdown",
   "metadata": {},
   "source": [
    "### (IMPLEMENTATION) Making Predictions with a Pre-trained Model\n",
    "\n",
    "In the next code cell, you will write a function that accepts a path to an image (such as `'dogImages/train/001.Affenpinscher/Affenpinscher_00001.jpg'`) as input and returns the index corresponding to the ImageNet class that is predicted by the pre-trained VGG-16 model.  The output should always be an integer between 0 and 999, inclusive.\n",
    "\n",
    "Before writing the function, make sure that you take the time to learn  how to appropriately pre-process tensors for pre-trained models in the [PyTorch documentation](http://pytorch.org/docs/stable/torchvision/models.html)."
   ]
  },
  {
   "cell_type": "code",
   "execution_count": null,
   "metadata": {},
   "outputs": [],
   "source": [
    "# Import ImageNet json.\n",
    "imagenet = json.load(open(\"imagenet_class_index.json\"))\n",
    "\n",
    "# Exctract categories and replace underscores.\n",
    "for key, value in imagenet.items():\n",
    "    imagenet[key] = value[1].replace('_',' ')"
   ]
  },
  {
   "cell_type": "code",
   "execution_count": null,
   "metadata": {},
   "outputs": [],
   "source": [
    "# Deifine function to predict class from ImageNet.\n",
    "def VGG16_predict(img_path):\n",
    "    '''\n",
    "    Use pre-trained VGG-16 model to obtain index corresponding to \n",
    "    predicted ImageNet class for image at specified path\n",
    "    \n",
    "    Args:\n",
    "        img_path: path to an image\n",
    "        \n",
    "    Returns:\n",
    "        Index corresponding to VGG-16 model's prediction\n",
    "    '''\n",
    "    \n",
    "    # Load image with PIL package.\n",
    "    im = Image.open(img_path).convert('RGB')\n",
    "\n",
    "    # Define transforms needed for VGG16.\n",
    "    transform_im = transforms.Compose([\n",
    "        transforms.Resize(256),\n",
    "        transforms.CenterCrop(224),\n",
    "        transforms.ToTensor(),\n",
    "        transforms.Normalize(mean=[0.485, 0.456, 0.406],\n",
    "                             std=[0.229, 0.224, 0.225])])\n",
    "    \n",
    "    # Transform image and reshape tensor.\n",
    "    im_t = transform_im(im)\n",
    "    im_t = im_t.view(-1,3,224,224)\n",
    "    \n",
    "    # Move image to cuda.\n",
    "    if use_cuda:\n",
    "        im_t = im_t.cuda()\n",
    "    \n",
    "    # Pass image through VGG network.\n",
    "    VGG16.eval()\n",
    "    output = VGG16(im_t)\n",
    "    \n",
    "    # Get the class with highest predicted probability.\n",
    "    prob, pred = torch.topk(output,1)\n",
    "    \n",
    "    # Exctract and return the predicted class.\n",
    "    pred_class = pred.item()\n",
    "    return pred_class"
   ]
  },
  {
   "cell_type": "code",
   "execution_count": null,
   "metadata": {},
   "outputs": [],
   "source": [
    "# Display test image.\n",
    "im_path = \"images/Welsh_springer_spaniel_08203.jpg\"\n",
    "im = Image.open(im_path).convert('RGB')\n",
    "plt.imshow(im)\n",
    "plt.show()\n",
    "\n",
    "# Test prediction.   \n",
    "predicted_class = VGG16_predict(im_path)\n",
    "print(f'The predicted category in ImageNet: {imagenet[str(predicted_class)]}.')"
   ]
  },
  {
   "cell_type": "markdown",
   "metadata": {},
   "source": [
    "### (IMPLEMENTATION) Write a Dog Detector\n",
    "\n",
    "While looking at the [dictionary](https://gist.github.com/yrevar/942d3a0ac09ec9e5eb3a), you will notice that the categories corresponding to dogs appear in an uninterrupted sequence and correspond to dictionary keys 151-268, inclusive, to include all categories from `'Chihuahua'` to `'Mexican hairless'`.  Thus, in order to check to see if an image is predicted to contain a dog by the pre-trained VGG-16 model, we need only check if the pre-trained model predicts an index between 151 and 268 (inclusive).\n",
    "\n",
    "Use these ideas to complete the `dog_detector` function below, which returns `True` if a dog is detected in an image (and `False` if not)."
   ]
  },
  {
   "cell_type": "code",
   "execution_count": null,
   "metadata": {},
   "outputs": [],
   "source": [
    "# Deifine function to detect dogs in an image.\n",
    "def dog_detector(img_path):\n",
    "    \n",
    "    # Get predicted class\n",
    "    pred = VGG16_predict(img_path)\n",
    "    \n",
    "    # Return True|False if dog detected.\n",
    "    return pred >= 151 and pred <= 268"
   ]
  },
  {
   "cell_type": "code",
   "execution_count": null,
   "metadata": {},
   "outputs": [],
   "source": [
    "# Test dog detection.\n",
    "print(f'Dog found in the picture: {dog_detector(im_path)}.')"
   ]
  },
  {
   "cell_type": "markdown",
   "metadata": {},
   "source": [
    "### (IMPLEMENTATION) Assess the Dog Detector\n",
    "\n",
    "__Question 2:__ Use the code cell below to test the performance of your `dog_detector` function.  \n",
    "- What percentage of the images in `human_files_short` have a detected dog?  \n",
    "- What percentage of the images in `dog_files_short` have a detected dog?"
   ]
  },
  {
   "cell_type": "markdown",
   "metadata": {},
   "source": [
    "__Answer:__ \n"
   ]
  },
  {
   "cell_type": "code",
   "execution_count": null,
   "metadata": {},
   "outputs": [],
   "source": [
    "# Detect dogs in both sets.\n",
    "H_dog_detected = [dog_detector(file) for file in human_files_short]\n",
    "D_dog_detected = [dog_detector(file) for file in dog_files_short]\n",
    "\n",
    "# Print percentage of detected dogs of both sets.\n",
    "print(f'{100*sum(H_dog_detected)/len(human_files_short):.1f}% of dogs were detected in \\'human_files_short\\'.')\n",
    "print(f'{100*sum(D_dog_detected)/len(human_files_short):.1f}% of dogs were detected in \\'dog_files_short\\'.')"
   ]
  },
  {
   "cell_type": "markdown",
   "metadata": {},
   "source": [
    "We suggest VGG-16 as a potential network to detect dog images in your algorithm, but you are free to explore other pre-trained networks (such as [Inception-v3](http://pytorch.org/docs/master/torchvision/models.html#inception-v3), [ResNet-50](http://pytorch.org/docs/master/torchvision/models.html#id3), etc).  Please use the code cell below to test other pre-trained PyTorch models.  If you decide to pursue this _optional_ task, report performance on `human_files_short` and `dog_files_short`."
   ]
  },
  {
   "cell_type": "markdown",
   "metadata": {},
   "source": [
    "---\n",
    "<a id='step3'></a>\n",
    "## Step 3: Create a CNN to Classify Dog Breeds (from Scratch)\n",
    "\n",
    "Now that we have functions for detecting humans and dogs in images, we need a way to predict breed from images.  In this step, you will create a CNN that classifies dog breeds.  You must create your CNN _from scratch_ (so, you can't use transfer learning _yet_!), and you must attain a test accuracy of at least 10%.  In Step 4 of this notebook, you will have the opportunity to use transfer learning to create a CNN that attains greatly improved accuracy.\n",
    "\n",
    "We mention that the task of assigning breed to dogs from images is considered exceptionally challenging.  To see why, consider that *even a human* would have trouble distinguishing between a Brittany and a Welsh Springer Spaniel.  \n",
    "\n",
    "Brittany | Welsh Springer Spaniel\n",
    "- | - \n",
    "<img src=\"images/Brittany_02625.jpg\" width=\"100\"> | <img src=\"images/Welsh_springer_spaniel_08203.jpg\" width=\"200\">\n",
    "\n",
    "It is not difficult to find other dog breed pairs with minimal inter-class variation (for instance, Curly-Coated Retrievers and American Water Spaniels).  \n",
    "\n",
    "Curly-Coated Retriever | American Water Spaniel\n",
    "- | -\n",
    "<img src=\"images/Curly-coated_retriever_03896.jpg\" width=\"200\"> | <img src=\"images/American_water_spaniel_00648.jpg\" width=\"200\">\n",
    "\n",
    "\n",
    "Likewise, recall that labradors come in yellow, chocolate, and black.  Your vision-based algorithm will have to conquer this high intra-class variation to determine how to classify all of these different shades as the same breed.  \n",
    "\n",
    "Yellow Labrador | Chocolate Labrador | Black Labrador\n",
    "- | -\n",
    "<img src=\"images/Labrador_retriever_06457.jpg\" width=\"150\"> | <img src=\"images/Labrador_retriever_06455.jpg\" width=\"240\"> | <img src=\"images/Labrador_retriever_06449.jpg\" width=\"220\">\n",
    "\n",
    "We also mention that random chance presents an exceptionally low bar: setting aside the fact that the classes are slightly imabalanced, a random guess will provide a correct answer roughly 1 in 133 times, which corresponds to an accuracy of less than 1%.  \n",
    "\n",
    "Remember that the practice is far ahead of the theory in deep learning.  Experiment with many different architectures, and trust your intuition.  And, of course, have fun!\n",
    "\n",
    "### (IMPLEMENTATION) Specify Data Loaders for the Dog Dataset\n",
    "\n",
    "Use the code cell below to write three separate [data loaders](http://pytorch.org/docs/stable/data.html#torch.utils.data.DataLoader) for the training, validation, and test datasets of dog images (located at `dog_images/train`, `dog_images/valid`, and `dog_images/test`, respectively).  You may find [this documentation on custom datasets](http://pytorch.org/docs/stable/torchvision/datasets.html) to be a useful resource.  If you are interested in augmenting your training and/or validation data, check out the wide variety of [transforms](http://pytorch.org/docs/stable/torchvision/transforms.html?highlight=transform)!"
   ]
  },
  {
   "cell_type": "code",
   "execution_count": null,
   "metadata": {},
   "outputs": [],
   "source": [
    "# Test if all images from dataset can be succesfully loaded.\n",
    "for index, file in enumerate(np.array(glob(\"/data/dog_images/train/*/*\"))):\n",
    "    try:\n",
    "        # Try loading image.        \n",
    "        Image.open(file).convert('RGB')\n",
    "        print(f'Tested up to index: {index}', end='\\r')\n",
    "    except Exception as e:\n",
    "        # Print exception with index in case of failure\n",
    "        print(f'Problematic file: {index}.')\n",
    "        print(f'Reason for failure: {e}!!!')"
   ]
  },
  {
   "cell_type": "code",
   "execution_count": null,
   "metadata": {},
   "outputs": [],
   "source": [
    "# Get path to the problematic image.\n",
    "truncated_file = np.array(glob(\"/data/dog_images/*/*/*\"))[2271]\n",
    "print(f'Corrupted file path: \\'{truncated_file}\\'.')"
   ]
  },
  {
   "cell_type": "code",
   "execution_count": null,
   "metadata": {},
   "outputs": [],
   "source": [
    "# Allow loading truncated images.\n",
    "ImageFile.LOAD_TRUNCATED_IMAGES = True"
   ]
  },
  {
   "cell_type": "code",
   "execution_count": null,
   "metadata": {},
   "outputs": [],
   "source": [
    "# Display truncated image.\n",
    "print('Such a lovely dog has to stay in the training dataset!!! :)')\n",
    "im = Image.open(truncated_file).convert('RGB')\n",
    "plt.imshow(im)\n",
    "plt.show()\n",
    "\n",
    "# Test if predicting on truncated file works.   \n",
    "predicted_class = VGG16_predict(truncated_file)\n",
    "print(f'The predicted class coresponding to category in ImageNet: {imagenet[str(predicted_class)]}.')"
   ]
  },
  {
   "cell_type": "code",
   "execution_count": null,
   "metadata": {},
   "outputs": [],
   "source": [
    "# Paths to train, validation and test sets.\n",
    "root_dir = './data/dog_images/'\n",
    "train_dir = root_dir + 'train/'\n",
    "valid_dir = root_dir + 'valid/'\n",
    "test_dir = root_dir + 'test/'"
   ]
  },
  {
   "cell_type": "code",
   "execution_count": null,
   "metadata": {},
   "outputs": [],
   "source": [
    "# Get mean and std for training dataset.\n",
    "# Compose transformations.\n",
    "calculate_trans = transforms.Compose([\n",
    "    transforms.Resize(256),\n",
    "    transforms.CenterCrop(224),\n",
    "    transforms.ToTensor()])\n",
    "\n",
    "# Define image loader.\n",
    "calculate_data = datasets.ImageFolder(train_dir, transform = calculate_trans)\n",
    "calculate_loader = torch.utils.data.DataLoader(calculate_data, batch_size=1, shuffle=False, num_workers=0)"
   ]
  },
  {
   "cell_type": "code",
   "execution_count": null,
   "metadata": {},
   "outputs": [],
   "source": [
    "# Lists to collect means and stds for all images.\n",
    "means = list()\n",
    "stds = list()\n",
    "\n",
    "# Calculate mean and std for each image\n",
    "for batch, (image, label) in enumerate(calculate_loader):\n",
    "    arr = np.array(image)\n",
    "    mean = np.mean(arr, axis = (0,2,3))\n",
    "    std = np.std(arr, axis = (0,2,3))\n",
    "    means.append(mean)\n",
    "    stds.append(std)"
   ]
  },
  {
   "cell_type": "code",
   "execution_count": null,
   "metadata": {},
   "outputs": [],
   "source": [
    "# Get mean of means.\n",
    "print(f'The mean of training dataset: {np.mean(means, axis = 0)}')\n",
    "\n",
    "# Get mean of stds.\n",
    "print(f'The std of training dataset: {np.mean(stds, axis = 0)}')"
   ]
  },
  {
   "cell_type": "code",
   "execution_count": null,
   "metadata": {},
   "outputs": [],
   "source": [
    "# Define transformations for train, validation and test sets.\n",
    "train_trans_sc = transforms.Compose([\n",
    "    transforms.Resize(256),\n",
    "    transforms.CenterCrop(224),\n",
    "    transforms.RandomRotation(15),\n",
    "    transforms.RandomHorizontalFlip(),\n",
    "    transforms.ToTensor(),    \n",
    "    transforms.Normalize([0.5, 0.5, 0.5],[0.5, 0.5, 0.5])\n",
    "    #transforms.Normalize([0.48640606,  0.45601946,  0.39183509],[ 0.23047173,  0.22563872,  0.22351009])\n",
    "    #transforms.Normalize(mean=[0.485, 0.456, 0.406],std=[0.229, 0.224, 0.225])\n",
    "])\n",
    "\n",
    "test_valid_trans_sc = transforms.Compose([\n",
    "    transforms.Resize(256),\n",
    "    transforms.CenterCrop(224),\n",
    "    transforms.ToTensor(),\n",
    "    transforms.Normalize([0.5, 0.5, 0.5],[0.5, 0.5, 0.5])\n",
    "    #transforms.Normalize([0.48640606,  0.45601946,  0.39183509],[ 0.23047173,  0.22563872,  0.22351009])\n",
    "    #transforms.Normalize(mean=[0.485, 0.456, 0.406],std=[0.229, 0.224, 0.225])\n",
    "])"
   ]
  },
  {
   "cell_type": "code",
   "execution_count": null,
   "metadata": {},
   "outputs": [],
   "source": [
    "# Dataloaders with local paths.\n",
    "train_data_sc = datasets.ImageFolder(train_dir, transform = train_trans_sc)\n",
    "valid_data_sc = datasets.ImageFolder(valid_dir, transform = test_valid_trans_sc)\n",
    "test_data_sc = datasets.ImageFolder(test_dir, transform = test_valid_trans_sc)\n",
    "\n",
    "collect_data = [train_data_sc, valid_data_sc, test_data_sc]"
   ]
  },
  {
   "cell_type": "code",
   "execution_count": null,
   "metadata": {},
   "outputs": [],
   "source": [
    "# Define dataloaders for train, validation and test sets.\n",
    "train_loader_sc = torch.utils.data.DataLoader(train_data_sc, batch_size=10, shuffle=True, num_workers=0)\n",
    "valid_loader_sc = torch.utils.data.DataLoader(valid_data_sc, batch_size=10, shuffle=True, num_workers=0)\n",
    "test_loader_sc = torch.utils.data.DataLoader(test_data_sc, batch_size=10, shuffle=False, num_workers=0)\n",
    "\n",
    "loaders_scratch = {'train':train_loader_sc,'valid':valid_loader_sc,'test':test_loader_sc}"
   ]
  },
  {
   "cell_type": "code",
   "execution_count": null,
   "metadata": {},
   "outputs": [],
   "source": [
    "# Investigate data\n",
    "print(f'Number of classes: {len(np.array(glob(train_dir + \"*\")))}.')\n",
    "print(f'Number of examples: \\nTrain set: {len(train_data_sc)}, \\nValidation set: {len(valid_data_sc)}, \\nTest set: {len(test_data_sc)}.')"
   ]
  },
  {
   "cell_type": "code",
   "execution_count": null,
   "metadata": {},
   "outputs": [],
   "source": [
    "# Show transformations applied on training data\n",
    "practice_loader = torch.utils.data.DataLoader(train_data_sc, batch_size=1, shuffle=True)\n",
    "\n",
    "def show_transformations():\n",
    "    data, target = next(iter(practice_loader))\n",
    "    arr = np.array(data)\n",
    "    image = arr.reshape(3,224,224).transpose(1,2,0)\n",
    "    image = image*np.array([0.5, 0.5, 0.5]) + np.array([0.5, 0.5, 0.5])\n",
    "    image[image < 0] = 0\n",
    "    image[image > 1] = 1\n",
    "    plt.imshow(image)\n",
    "    plt.show()\n",
    "\n",
    "show_transformations()"
   ]
  },
  {
   "cell_type": "code",
   "execution_count": null,
   "metadata": {},
   "outputs": [],
   "source": [
    "# del VGG16"
   ]
  },
  {
   "cell_type": "markdown",
   "metadata": {},
   "source": [
    "**Question 3:** Describe your chosen procedure for preprocessing the data. \n",
    "- How does your code resize the images (by cropping, stretching, etc)?  What size did you pick for the input tensor, and why?\n",
    "- Did you decide to augment the dataset?  If so, how (through translations, flips, rotations, etc)?  If not, why not?\n"
   ]
  },
  {
   "cell_type": "markdown",
   "metadata": {},
   "source": [
    "**Answer**:<br>\n",
    "Preprocessing data is achieved with *torchvision.transforms* module. I choose to start with similar preprocessing that I used while writing function *VGG16_predict* by resizing picture to 256 pixels on the shorter side and cropping out 224x224 pixels from the center of the image. I added two transformations to increase the models accuracy, random rotation and random horizontal flip. After transforming image to a tensor, the values must be normalized with mean and standard deviation for each color channel. I tried different approaches to do so. First was using the same values, that are required for pretrained networks trained on ImageNet dataset. Second was calculating the mean and std of the training dataset in this project. With both of these methods I was not able to achieve accuracy above 10%. The final approach was to normalize values with *mean = 0.5* and *std = 0.5* for all color channels, which transforms values to be within the range \\[-1,1\\]."
   ]
  },
  {
   "cell_type": "markdown",
   "metadata": {},
   "source": [
    "### (IMPLEMENTATION) Model Architecture\n",
    "\n",
    "Create a CNN to classify dog breed.  Use the template in the code cell below."
   ]
  },
  {
   "cell_type": "code",
   "execution_count": null,
   "metadata": {},
   "outputs": [],
   "source": [
    "# Define the CNN architecture.\n",
    "class Net(nn.Module):\n",
    "    ### TODO: choose an architecture, and complete the class\n",
    "    def __init__(self):\n",
    "        super(Net, self).__init__()\n",
    "        \n",
    "        # Define convolutional layers\n",
    "        self.conv1 = nn.Conv2d(3, 32, 3, padding = 1)\n",
    "        self.conv2 = nn.Conv2d(32, 64, 3, padding = 1)\n",
    "        self.conv3 = nn.Conv2d(64, 128, 3, padding = 1)\n",
    "        self.conv4 = nn.Conv2d(128, 256, 3, padding = 1)\n",
    "        self.conv5 = nn.Conv2d(256, 512, 3, padding = 1)\n",
    "        \n",
    "        # Max pooling layer\n",
    "        self.pool1 = nn.MaxPool2d(2,2)\n",
    "        \n",
    "        # Define fully connected layers\n",
    "        self.fc1 = nn.Linear(512*7*7, 500)\n",
    "        self.fc2 = nn.Linear(500, 500)\n",
    "        self.fc3 = nn.Linear(500, 133)\n",
    "        \n",
    "        # Define dropout for fully connected layers\n",
    "        self.dropout = nn.Dropout(0.5)        \n",
    "    \n",
    "    def forward(self, x):\n",
    "        # Pass through conv. layers\n",
    "        x = self.pool1(F.relu(self.conv1(x)))\n",
    "        x = self.pool1(F.relu(self.conv2(x)))\n",
    "        x = self.pool1(F.relu(self.conv3(x)))\n",
    "        x = self.pool1(F.relu(self.conv4(x)))        \n",
    "        x = self.pool1(F.relu(self.conv5(x)))\n",
    "        \n",
    "        # Flatten x.\n",
    "        x = x.view(-1,512*7*7)\n",
    "        \n",
    "        # Pass through fc layers\n",
    "        x = self.dropout(F.relu(self.fc1(x)))\n",
    "        x = self.dropout(F.relu(self.fc2(x)))\n",
    "        x = self.fc3(x)        \n",
    "        return x\n",
    "\n",
    "#-#-# You do NOT have to modify the code below this line. #-#-#\n",
    "\n",
    "# instantiate the CNN\n",
    "model_scratch = Net()\n",
    "print(model_scratch)\n",
    "\n",
    "# move tensors to GPU if CUDA is available\n",
    "if use_cuda:\n",
    "    model_scratch.cuda()"
   ]
  },
  {
   "cell_type": "markdown",
   "metadata": {},
   "source": [
    "__Question 4:__ Outline the steps you took to get to your final CNN architecture and your reasoning at each step.  "
   ]
  },
  {
   "cell_type": "markdown",
   "metadata": {},
   "source": [
    "__Answer:__ <br>\n",
    "The final version of the architecture has five convolutional layers starting with 32 filters and ending with 512. Each filter has *size = 3*, *stride = 1* and *padding = 1*. After each layer a *ReLU* activation function is applied, followed by max pooling layer with *kernel size = 2* and *stride = 2*, that decreases the size of image by half.\n",
    "Convolutional layers are followed by three fully connected layers starting with 25088 input nodes and ending with 133 output nodes, which corresponds to the number of dog breed classes. First two layers are followed by *ReLU* activation function and dropout with probability *p = 0.5*. Last fully connected layer *fc3* has no activation function.\n",
    "With training in 30 epochs this simple architecture reaches accuracy of 18.18% on test set."
   ]
  },
  {
   "cell_type": "markdown",
   "metadata": {},
   "source": [
    "### (IMPLEMENTATION) Specify Loss Function and Optimizer\n",
    "\n",
    "Use the next code cell to specify a [loss function](http://pytorch.org/docs/stable/nn.html#loss-functions) and [optimizer](http://pytorch.org/docs/stable/optim.html).  Save the chosen loss function as `criterion_scratch`, and the optimizer as `optimizer_scratch` below."
   ]
  },
  {
   "cell_type": "code",
   "execution_count": null,
   "metadata": {},
   "outputs": [],
   "source": [
    "# Select loss function.\n",
    "criterion_scratch = nn.CrossEntropyLoss()\n",
    "\n",
    "# Select optimizer.\n",
    "optimizer_scratch = optim.Adam(model_scratch.parameters(), lr=0.001)"
   ]
  },
  {
   "cell_type": "code",
   "execution_count": 4,
   "metadata": {},
   "outputs": [
    {
     "name": "stdout",
     "output_type": "stream",
     "text": [
      "memory allocated 0.00 Giga-bytes\n",
      "memory allocated 0.00 Giga-bytes\n"
     ]
    },
    {
     "name": "stderr",
     "output_type": "stream",
     "text": [
      "C:\\Users\\markein\\Anaconda3\\lib\\site-packages\\torch\\cuda\\memory.py:344: FutureWarning: torch.cuda.memory_cached has been renamed to torch.cuda.memory_reserved\n",
      "  warnings.warn(\n"
     ]
    }
   ],
   "source": [
    "# difference between memory_cached and memory_allocated: https://discuss.pytorch.org/t/memory-allocated-vs-memory-cached/32365\n",
    "print(f'memory allocated {torch.cuda.memory_allocated()/1e9:.2f} Giga-bytes')\n",
    "print(f'memory allocated {torch.cuda.memory_cached()/1e9:.2f} Giga-bytes')"
   ]
  },
  {
   "cell_type": "markdown",
   "metadata": {},
   "source": [
    "### (IMPLEMENTATION) Train and Validate the Model\n",
    "\n",
    "Train and validate your model in the code cell below.  [Save the final model parameters](http://pytorch.org/docs/master/notes/serialization.html) at filepath `'model_scratch.pt'`."
   ]
  },
  {
   "cell_type": "code",
   "execution_count": 5,
   "metadata": {},
   "outputs": [],
   "source": [
    "# Define function to train a model.\n",
    "def train(n_epochs, loaders, model, optimizer, criterion, use_cuda, save_path):\n",
    "    \"\"\"returns trained model\"\"\"\n",
    "    # initialize tracker for minimum validation loss\n",
    "    valid_loss_min = np.Inf \n",
    "    \n",
    "    for epoch in range(1, n_epochs+1):\n",
    "        # initialize variables to monitor training and validation loss\n",
    "        train_loss = 0.0\n",
    "        valid_loss = 0.0\n",
    "        \n",
    "        print(f'memory allocated {torch.cuda.memory_allocated()/1e9:.2f} Giga-bytes')\n",
    "        print(f'memory allocated {torch.cuda.memory_cached()/1e9:.2f} Giga-bytes')\n",
    "        \n",
    "        ###################\n",
    "        # train the model #\n",
    "        ###################\n",
    "        model.train()\n",
    "        \n",
    "        print(f'\\nTraining epoch {epoch}...', end='\\r')\n",
    "        for batch_idx, (data, target) in enumerate(loaders['train']):    \n",
    "\n",
    "            # move to GPU\n",
    "            if use_cuda:\n",
    "                data, target = data.cuda(), target.cuda()\n",
    "                \n",
    "            # Set gradients to 0\n",
    "            optimizer.zero_grad()            \n",
    "            # Forward pass\n",
    "            output = model(data)\n",
    "            # Calculate loss\n",
    "            loss = criterion(output,target)\n",
    "            # Backward pass\n",
    "            loss.backward()\n",
    "            # take optimizer step\n",
    "            optimizer.step()\n",
    "            # Get average training loss            \n",
    "            train_loss = train_loss + ((1 / (batch_idx + 1)) * (loss.data - train_loss))\n",
    "            \n",
    "       \n",
    "        print(f'Evaluating epoch {epoch}...', end='\\r')\n",
    "        \n",
    "        \n",
    "        \n",
    "        correct = 0.\n",
    "        total = 0.\n",
    "        \n",
    "        \n",
    "        ######################    \n",
    "        # validate the model #\n",
    "        ######################\n",
    "        model.eval()\n",
    "        for batch_idx, (data, target) in enumerate(loaders['valid']):\n",
    "            # move to GPU\n",
    "            if use_cuda:\n",
    "                data, target = data.cuda(), target.cuda()\n",
    "            # Forward pass\n",
    "            with torch.no_grad():\n",
    "                output = model(data)\n",
    "            # Calculate loss\n",
    "            loss = criterion(output,target)\n",
    "            # Get average validation loss            \n",
    "            valid_loss = valid_loss + ((1 / (batch_idx + 1)) * (loss.data - valid_loss))\n",
    "            # convert output probabilities to predicted class\n",
    "            pred = output.data.max(1, keepdim=True)[1]\n",
    "            # compare predictions to true label\n",
    "            correct += np.sum(np.squeeze(pred.eq(target.data.view_as(pred))).cpu().numpy())\n",
    "            total += data.size(0)           \n",
    "\n",
    "            \n",
    "        # print training/validation statistics \n",
    "        print(f'Epoch: {epoch}.. Train Loss: {train_loss:.3f}... Valid Loss: {valid_loss:.3f}... Valid Accuracy: {100.*correct/ total:.2f}% ({correct:.0f}/{total:.0f})...') \n",
    "        #print(f'\\nTraining Accuracy: {100.*train_accuracy/ train_total:.2f}% ({train_accuracy:.0f}/{train_total:.0f})')\n",
    "        #print(f'\\n')\n",
    "        \n",
    "        ## TODO: save the model if validation loss has decreased\n",
    "        if valid_loss < valid_loss_min:\n",
    "            print(f'...In epoch {epoch} the validation loss decreased from {valid_loss_min:.6f} to {valid_loss:.6f}. Model saved...')\n",
    "            # Save current state dict\n",
    "            torch.save(model.state_dict(),save_path)\n",
    "            # Update min. validation loss\n",
    "            valid_loss_min = valid_loss\n",
    "            \n",
    "            \n",
    "    # return trained model\n",
    "    return model\n",
    "\n"
   ]
  },
  {
   "cell_type": "code",
   "execution_count": null,
   "metadata": {
    "scrolled": true
   },
   "outputs": [],
   "source": [
    "# Train the model.\n",
    "model_scratch = train(3, loaders_scratch, model_scratch, optimizer_scratch, criterion_scratch, use_cuda, 'model_scratch.pt')"
   ]
  },
  {
   "cell_type": "code",
   "execution_count": null,
   "metadata": {},
   "outputs": [],
   "source": [
    "print(f'memory allocated {torch.cuda.memory_allocated()/1e9:.2f} Giga-bytes')\n",
    "print(f'memory allocated {torch.cuda.memory_cached()/1e9:.2f} Giga-bytes')"
   ]
  },
  {
   "cell_type": "code",
   "execution_count": null,
   "metadata": {},
   "outputs": [],
   "source": [
    "# Optionaly save the model even if validation loss did not decrease.\n",
    "#torch.save(model_scratch.state_dict(),'model_scratch.pt')"
   ]
  },
  {
   "cell_type": "code",
   "execution_count": null,
   "metadata": {},
   "outputs": [],
   "source": [
    "# load the model that got the best validation accuracy.\n",
    "model_scratch.load_state_dict(torch.load('model_scratch.pt'))"
   ]
  },
  {
   "cell_type": "markdown",
   "metadata": {},
   "source": [
    "### (IMPLEMENTATION) Test the Model\n",
    "\n",
    "Try out your model on the test dataset of dog images.  Use the code cell below to calculate and print the test loss and accuracy.  Ensure that your test accuracy is greater than 10%."
   ]
  },
  {
   "cell_type": "code",
   "execution_count": 6,
   "metadata": {},
   "outputs": [],
   "source": [
    "# Define function to ge test accuracy.\n",
    "def test(loaders, model, criterion, use_cuda):\n",
    "\n",
    "    # monitor test loss and accuracy\n",
    "    test_loss = 0.\n",
    "    correct = 0.\n",
    "    total = 0.\n",
    "\n",
    "    model.eval()\n",
    "    for batch_idx, (data, target) in enumerate(loaders['test']):\n",
    "        # move to GPU\n",
    "        if use_cuda:\n",
    "            data, target = data.cuda(), target.cuda()\n",
    "        # Forward pass\n",
    "        with torch.no_grad():\n",
    "            output = model(data)\n",
    "        # calculate the loss\n",
    "        loss = criterion(output, target)\n",
    "        # update average test loss \n",
    "        test_loss = test_loss + ((1 / (batch_idx + 1)) * (loss.data - test_loss))\n",
    "        # convert output probabilities to predicted class\n",
    "        pred = output.data.max(1, keepdim=True)[1]\n",
    "        # compare predictions to true label\n",
    "        correct += np.sum(np.squeeze(pred.eq(target.data.view_as(pred))).cpu().numpy())\n",
    "        total += data.size(0)\n",
    "            \n",
    "    #print('Test Loss: {:.6f}\\n'.format(test_loss))\n",
    "\n",
    "    print(f'\\nTest Accuracy: {100.*correct/ total:.2f}% ({correct:.0f}/{total:.0f})')"
   ]
  },
  {
   "cell_type": "code",
   "execution_count": null,
   "metadata": {},
   "outputs": [],
   "source": [
    "# Call test function.  \n",
    "test(loaders_scratch, model_scratch, criterion_scratch, use_cuda)"
   ]
  },
  {
   "cell_type": "markdown",
   "metadata": {},
   "source": [
    "---\n",
    "<a id='step4'></a>\n",
    "## Step 4: Create a CNN to Classify Dog Breeds (using Transfer Learning)\n",
    "\n",
    "You will now use transfer learning to create a CNN that can identify dog breed from images.  Your CNN must attain at least 60% accuracy on the test set.\n",
    "\n",
    "### (IMPLEMENTATION) Specify Data Loaders for the Dog Dataset\n",
    "\n",
    "Use the code cell below to write three separate [data loaders](http://pytorch.org/docs/master/data.html#torch.utils.data.DataLoader) for the training, validation, and test datasets of dog images (located at `dogImages/train`, `dogImages/valid`, and `dogImages/test`, respectively). \n",
    "\n",
    "If you like, **you are welcome to use the same data loaders from the previous step**, when you created a CNN from scratch."
   ]
  },
  {
   "cell_type": "code",
   "execution_count": 7,
   "metadata": {},
   "outputs": [
    {
     "name": "stdout",
     "output_type": "stream",
     "text": [
      "memory allocated 0.00 Giga-bytes\n",
      "memory allocated 0.00 Giga-bytes\n"
     ]
    }
   ],
   "source": [
    "print(f'memory allocated {torch.cuda.memory_allocated()/1e9:.2f} Giga-bytes')\n",
    "print(f'memory allocated {torch.cuda.memory_cached()/1e9:.2f} Giga-bytes')"
   ]
  },
  {
   "cell_type": "code",
   "execution_count": 8,
   "metadata": {},
   "outputs": [],
   "source": [
    "# Allow loading truncated images.\n",
    "ImageFile.LOAD_TRUNCATED_IMAGES = True"
   ]
  },
  {
   "cell_type": "code",
   "execution_count": 9,
   "metadata": {},
   "outputs": [],
   "source": [
    "# Paths to train, validation and test sets.\n",
    "root_dir = './data/dog_images/'\n",
    "train_dir = root_dir + 'train/'\n",
    "valid_dir = root_dir + 'valid/'\n",
    "test_dir = root_dir + 'test/'"
   ]
  },
  {
   "cell_type": "code",
   "execution_count": 10,
   "metadata": {},
   "outputs": [],
   "source": [
    "# Define transformations for train, validation and test sets.\n",
    "train_trans_tr = transforms.Compose([\n",
    "    transforms.Resize(256),\n",
    "    transforms.CenterCrop(224),\n",
    "    transforms.RandomRotation(15),\n",
    "    transforms.ToTensor(),\n",
    "    transforms.Normalize(mean=[0.485, 0.456, 0.406],\n",
    "                         std=[0.229, 0.224, 0.225])])\n",
    "\n",
    "test_valid_trans_tr = transforms.Compose([\n",
    "    transforms.Resize(256),\n",
    "    transforms.CenterCrop(224),\n",
    "    transforms.ToTensor(),\n",
    "    transforms.Normalize(mean=[0.485, 0.456, 0.406],\n",
    "                         std=[0.229, 0.224, 0.225])])"
   ]
  },
  {
   "cell_type": "code",
   "execution_count": 11,
   "metadata": {},
   "outputs": [],
   "source": [
    "# Dataloaders with local paths.\n",
    "train_data_tr = datasets.ImageFolder(train_dir, transform = train_trans_tr)\n",
    "valid_data_tr = datasets.ImageFolder(valid_dir, transform = test_valid_trans_tr)\n",
    "test_data_tr = datasets.ImageFolder(test_dir, transform = test_valid_trans_tr)\n",
    "\n",
    "data_transfer = {'train':train_data_tr, 'valid':valid_data_tr, 'test':test_data_tr}"
   ]
  },
  {
   "cell_type": "code",
   "execution_count": 12,
   "metadata": {},
   "outputs": [],
   "source": [
    "# Define dataloaders for train, validation and test sets.\n",
    "train_loader_tr = torch.utils.data.DataLoader(train_data_tr, batch_size=20, shuffle=True, num_workers=0)\n",
    "valid_loader_tr = torch.utils.data.DataLoader(valid_data_tr, batch_size=20, shuffle=True, num_workers=0)\n",
    "test_loader_tr = torch.utils.data.DataLoader(test_data_tr, batch_size=20, shuffle=False, num_workers=0)\n",
    "\n",
    "loaders_transfer = {'train':train_loader_tr,'valid':valid_loader_tr,'test':test_loader_tr}"
   ]
  },
  {
   "cell_type": "markdown",
   "metadata": {},
   "source": [
    "### (IMPLEMENTATION) Model Architecture\n",
    "\n",
    "Use transfer learning to create a CNN to classify dog breed.  Use the code cell below, and save your initialized model as the variable `model_transfer`."
   ]
  },
  {
   "cell_type": "code",
   "execution_count": 13,
   "metadata": {
    "scrolled": true
   },
   "outputs": [
    {
     "data": {
      "text/plain": [
       "Sequential(\n",
       "  (0): Linear(in_features=25088, out_features=4096, bias=True)\n",
       "  (1): ReLU(inplace=True)\n",
       "  (2): Dropout(p=0.5, inplace=False)\n",
       "  (3): Linear(in_features=4096, out_features=4096, bias=True)\n",
       "  (4): ReLU(inplace=True)\n",
       "  (5): Dropout(p=0.5, inplace=False)\n",
       "  (6): Linear(in_features=4096, out_features=1000, bias=True)\n",
       ")"
      ]
     },
     "execution_count": 13,
     "metadata": {},
     "output_type": "execute_result"
    }
   ],
   "source": [
    "# Use VGG16 for transfer learning.\n",
    "model_transfer = models.vgg16(pretrained=True)\n",
    "\n",
    "# Freeze parameters of the model.\n",
    "for param in model_transfer.parameters():\n",
    "    param.requires_grad = False\n",
    "\n",
    "# Print out classifier.\n",
    "model_transfer.classifier   "
   ]
  },
  {
   "cell_type": "code",
   "execution_count": 14,
   "metadata": {},
   "outputs": [],
   "source": [
    "# Define new classifier.\n",
    "dog_breed_classifier = nn.Sequential(OrderedDict([\n",
    "    ('0', nn.Linear(25088,4096)),\n",
    "    ('1', nn.ReLU()),\n",
    "    ('2', nn.Dropout(0.5)),\n",
    "    ('3', nn.Linear(4096,4096)),\n",
    "    ('4', nn.ReLU()),\n",
    "    ('5', nn.Dropout(0.5)),\n",
    "    ('6', nn.Linear(4096,133))\n",
    "        ]))"
   ]
  },
  {
   "cell_type": "code",
   "execution_count": 15,
   "metadata": {},
   "outputs": [],
   "source": [
    "# Change classifier in the model.\n",
    "model_transfer.classifier = dog_breed_classifier"
   ]
  },
  {
   "cell_type": "code",
   "execution_count": 16,
   "metadata": {},
   "outputs": [],
   "source": [
    "# Move model to GPU if CUDA is available.\n",
    "if use_cuda:\n",
    "    model_transfer = model_transfer.cuda()"
   ]
  },
  {
   "cell_type": "markdown",
   "metadata": {},
   "source": [
    "__Question 5:__ Outline the steps you took to get to your final CNN architecture and your reasoning at each step.  Describe why you think the architecture is suitable for the current problem."
   ]
  },
  {
   "cell_type": "markdown",
   "metadata": {},
   "source": [
    "__Answer:__ <br>\n",
    "VGG16 seems to be like a good easy option to implement for transfer learning. Since VGG NNs were trained on ImageNet dataset, they can identify 1000 classes of various objects, from which more than 100 are different dog breeds. Our dataset has 133 dog breeds, so it can be expected that this NN should be able to extract most features about specific to each of the dog breeds reasonably well.<br>\n",
    "To make things easier I decided to modify only the number of output nodes from the classifier, so that it matches the number of classes in our dataset. Just this minor change and training on 5 epochs results in accuracy of 70.93%.\n"
   ]
  },
  {
   "cell_type": "markdown",
   "metadata": {},
   "source": [
    "### (IMPLEMENTATION) Specify Loss Function and Optimizer\n",
    "\n",
    "Use the next code cell to specify a [loss function](http://pytorch.org/docs/master/nn.html#loss-functions) and [optimizer](http://pytorch.org/docs/master/optim.html).  Save the chosen loss function as `criterion_transfer`, and the optimizer as `optimizer_transfer` below."
   ]
  },
  {
   "cell_type": "code",
   "execution_count": 17,
   "metadata": {},
   "outputs": [],
   "source": [
    "# Select loss function.\n",
    "criterion_transfer = nn.CrossEntropyLoss()\n",
    "\n",
    "# Select optimizer, only optimize parameters of the classifier.\n",
    "optimizer_transfer = optim.Adam(model_transfer.classifier.parameters(), lr=0.001)"
   ]
  },
  {
   "cell_type": "markdown",
   "metadata": {},
   "source": [
    "### (IMPLEMENTATION) Train and Validate the Model\n",
    "\n",
    "Train and validate your model in the code cell below.  [Save the final model parameters](http://pytorch.org/docs/master/notes/serialization.html) at filepath `'model_transfer.pt'`."
   ]
  },
  {
   "cell_type": "code",
   "execution_count": 18,
   "metadata": {},
   "outputs": [
    {
     "name": "stdout",
     "output_type": "stream",
     "text": [
      "memory allocated 0.54 Giga-bytes\n",
      "memory allocated 0.56 Giga-bytes\n",
      "\n",
      "Epoch: 1.. Train Loss: 5.173... Valid Loss: 4.202... Valid Accuracy: 12.34% (103/835)...\n",
      "...In epoch 1 the validation loss decreased from inf to 4.202414. Model saved...\n",
      "memory allocated 1.99 Giga-bytes\n",
      "memory allocated 2.88 Giga-bytes\n",
      "\n",
      "Epoch: 2.. Train Loss: 5.218... Valid Loss: 4.282... Valid Accuracy: 10.78% (90/835)...\n",
      "memory allocated 1.99 Giga-bytes\n",
      "memory allocated 2.88 Giga-bytes\n",
      "\n",
      "Epoch: 3.. Train Loss: 5.444... Valid Loss: 4.467... Valid Accuracy: 6.47% (54/835)...\n",
      "memory allocated 1.99 Giga-bytes\n",
      "memory allocated 2.88 Giga-bytes\n",
      "\n",
      "Epoch: 4.. Train Loss: 5.260... Valid Loss: 4.469... Valid Accuracy: 7.54% (63/835)...\n",
      "memory allocated 1.99 Giga-bytes\n",
      "memory allocated 2.88 Giga-bytes\n",
      "\n",
      "Epoch: 5.. Train Loss: 5.257... Valid Loss: 4.497... Valid Accuracy: 7.07% (59/835)...\n",
      "memory allocated 1.99 Giga-bytes\n",
      "memory allocated 2.88 Giga-bytes\n",
      "\n",
      "Epoch: 6.. Train Loss: 5.220... Valid Loss: 4.646... Valid Accuracy: 8.02% (67/835)...\n",
      "memory allocated 1.99 Giga-bytes\n",
      "memory allocated 2.88 Giga-bytes\n",
      "\n",
      "Epoch: 7.. Train Loss: 5.200... Valid Loss: 4.518... Valid Accuracy: 8.26% (69/835)...\n",
      "memory allocated 1.99 Giga-bytes\n",
      "memory allocated 2.88 Giga-bytes\n",
      "\n",
      "Epoch: 8.. Train Loss: 4.986... Valid Loss: 4.398... Valid Accuracy: 10.42% (87/835)...\n",
      "memory allocated 1.99 Giga-bytes\n",
      "memory allocated 2.88 Giga-bytes\n",
      "\n",
      "Epoch: 9.. Train Loss: 5.065... Valid Loss: 4.524... Valid Accuracy: 8.62% (72/835)...\n",
      "memory allocated 1.99 Giga-bytes\n",
      "memory allocated 2.88 Giga-bytes\n",
      "\n",
      "Epoch: 10.. Train Loss: 5.012... Valid Loss: 4.390... Valid Accuracy: 8.50% (71/835)...\n"
     ]
    }
   ],
   "source": [
    "# Train the model.\n",
    "model_transfer = train(10, loaders_transfer, model_transfer, optimizer_transfer, criterion_transfer, use_cuda, 'model_transfer.pt')"
   ]
  },
  {
   "cell_type": "code",
   "execution_count": 19,
   "metadata": {},
   "outputs": [],
   "source": [
    "# Optionaly save the model even if validation loss did not decrease.\n",
    "torch.save(model_transfer.state_dict(),'model_transfer.pt')"
   ]
  },
  {
   "cell_type": "code",
   "execution_count": null,
   "metadata": {},
   "outputs": [],
   "source": [
    "# load the model that got the best validation accuracy.\n",
    "model_transfer.load_state_dict(torch.load('model_transfer.pt'))"
   ]
  },
  {
   "cell_type": "markdown",
   "metadata": {},
   "source": [
    "### (IMPLEMENTATION) Test the Model\n",
    "\n",
    "Try out your model on the test dataset of dog images. Use the code cell below to calculate and print the test loss and accuracy.  Ensure that your test accuracy is greater than 60%."
   ]
  },
  {
   "cell_type": "code",
   "execution_count": null,
   "metadata": {},
   "outputs": [],
   "source": [
    "# Call test function.  \n",
    "test(loaders_transfer, model_transfer, criterion_transfer, use_cuda)"
   ]
  },
  {
   "cell_type": "markdown",
   "metadata": {},
   "source": [
    "### (IMPLEMENTATION) Predict Dog Breed with the Model\n",
    "\n",
    "Write a function that takes an image path as input and returns the dog breed (`Affenpinscher`, `Afghan hound`, etc) that is predicted by your model.  "
   ]
  },
  {
   "cell_type": "code",
   "execution_count": null,
   "metadata": {},
   "outputs": [],
   "source": [
    "### TODO: Write a function that takes a path to an image as input\n",
    "### and returns the dog breed that is predicted by the model.\n",
    "\n",
    "# list of class names by index, i.e. a name can be accessed like class_names[0]\n",
    "class_names = [item[4:].replace(\"_\", \" \") for item in data_transfer['train'].classes]\n",
    "\n",
    "def predict_breed_transfer(img_path):\n",
    "        # Load image with PIL package.\n",
    "    im = Image.open(img_path).convert('RGB')\n",
    "\n",
    "    # Define transforms needed for VGG16.\n",
    "    transform_im = transforms.Compose([\n",
    "        transforms.Resize(256),\n",
    "        transforms.CenterCrop(224),\n",
    "        transforms.ToTensor(),\n",
    "        transforms.Normalize(mean=[0.485, 0.456, 0.406],\n",
    "                             std=[0.229, 0.224, 0.225])])\n",
    "    \n",
    "    # Transform image and reshape tensor.\n",
    "    im_t = transform_im(im)\n",
    "    im_t = im_t.view(-1,3,224,224)\n",
    "    \n",
    "    if use_cuda:\n",
    "        im_t = im_t.cuda()\n",
    "    \n",
    "    # Pass image through VGG network.\n",
    "    model_transfer.eval()\n",
    "    with torch.no_grad():\n",
    "        output = model_transfer(im_t)\n",
    "        \n",
    "        # Get the class with highest predicted probability.\n",
    "        prob, pred = torch.topk(output,1)\n",
    "    \n",
    "    # Exctract and return the predicted class.\n",
    "    pred_class = pred.item()\n",
    "    dog = class_names[pred_class]\n",
    "    \n",
    "    return pred_class, dog"
   ]
  },
  {
   "cell_type": "markdown",
   "metadata": {},
   "source": [
    "---\n",
    "<a id='step5'></a>\n",
    "## Step 5: Write your Algorithm\n",
    "\n",
    "Write an algorithm that accepts a file path to an image and first determines whether the image contains a human, dog, or neither.  Then,\n",
    "- if a __dog__ is detected in the image, return the predicted breed.\n",
    "- if a __human__ is detected in the image, return the resembling dog breed.\n",
    "- if __neither__ is detected in the image, provide output that indicates an error.\n",
    "\n",
    "You are welcome to write your own functions for detecting humans and dogs in images, but feel free to use the `face_detector` and `human_detector` functions developed above.  You are __required__ to use your CNN from Step 4 to predict dog breed.  \n",
    "\n",
    "Some sample output for our algorithm is provided below, but feel free to design your own user experience!\n",
    "\n",
    "![Sample Human Output](images/sample_human_output.png)\n",
    "\n",
    "\n",
    "### (IMPLEMENTATION) Write your Algorithm"
   ]
  },
  {
   "cell_type": "code",
   "execution_count": null,
   "metadata": {},
   "outputs": [],
   "source": [
    "# Define app to identify dog breeds.\n",
    "def run_app(img_path):\n",
    "    ## handle cases for a human face, dog, and neither\n",
    "    if dog_detector(img_path):\n",
    "        print('\\nI definitely see a dog in this picture.')\n",
    "        \n",
    "        # Let's take a look at the picture\n",
    "        im = Image.open(img_path).convert('RGB')\n",
    "        plt.imshow(im)\n",
    "        plt.show()\n",
    "        \n",
    "        # Predict dog breed.\n",
    "        index, breed_class = predict_breed_transfer(img_path)\n",
    "        print(f'I think it is a {breed_class}.')\n",
    "        if breed_class == 'Australian shepherd':\n",
    "            print('!!!The best dog ever!!!')\n",
    "    \n",
    "    \n",
    "    elif face_detector(img_path):\n",
    "        print('\\nThis must be a human.')\n",
    " \n",
    "        # Predict dog breed.\n",
    "        index, breed_class = predict_breed_transfer(img_path)\n",
    "        \n",
    "        # Get image of predicted breed\n",
    "        folder = data_transfer['train'].classes[index]\n",
    "        dog = np.array(glob(f\"/data/dog_images/train/{folder}/*\"))[0]\n",
    "        \n",
    "        # Let's take a look at the picture\n",
    "        im, (ax1, ax2) = plt.subplots(1, 2, figsize = (10,10))\n",
    "        im1 = Image.open(img_path).convert('RGB')\n",
    "        ax1.imshow(im1)\n",
    "        im2 = Image.open(dog).convert('RGB')\n",
    "        ax2.imshow(im2)\n",
    "        plt.show()        \n",
    "\n",
    "        print(f'...Who looks like a {breed_class}. Do they look alike?')        \n",
    "        \n",
    "        \n",
    "    else:\n",
    "        print('\\nI don\\'t see any dogs or humans here!!!')\n",
    "        # Let's take a look at the picture\n",
    "        im = Image.open(img_path).convert('RGB')\n",
    "        plt.imshow(im)\n",
    "        plt.show()\n",
    "        \n",
    "        # Predict VGG16 category\n",
    "        ImageNet_class = VGG16_predict(img_path)\n",
    "        category = imagenet[str(ImageNet_class)]\n",
    "        \n",
    "        print(f'This looks more like a {category}...')"
   ]
  },
  {
   "cell_type": "markdown",
   "metadata": {},
   "source": [
    "---\n",
    "<a id='step6'></a>\n",
    "## Step 6: Test Your Algorithm\n",
    "\n",
    "In this section, you will take your new algorithm for a spin!  What kind of dog does the algorithm think that _you_ look like?  If you have a dog, does it predict your dog's breed accurately?  If you have a cat, does it mistakenly think that your cat is a dog?\n",
    "\n",
    "### (IMPLEMENTATION) Test Your Algorithm on Sample Images!\n",
    "\n",
    "Test your algorithm at least six images on your computer.  Feel free to use any images you like.  Use at least two human and two dog images.  \n",
    "\n",
    "__Question 6:__ Is the output better than you expected :) ?  Or worse :( ?  Provide at least three possible points of improvement for your algorithm."
   ]
  },
  {
   "cell_type": "markdown",
   "metadata": {},
   "source": [
    "__Answer:__ <br>\n",
    "The model seems to be doing decent job in identifying dog breeds. I was able to recognize all three Mastiffs correctly and later other tested breeds, that were part of the training set. Finding resemblance between humans and dog breeds is a little bit difficult to evaluate, but I would say I can see similar features in some cases.<br>\n",
    "Some steps to improve this app could be:<br>\n",
    "- 1. Add more dog breeds to the training dataset and retrain the model. Since there are more than 300 breeds recognized by [FCI](http://www.fci.be/en/) and this dataset has only 133 classes some well-known dog breeds can't be identified.<br>\n",
    "- 2. Possible improvement of face detection could be done by using different [pretrained detectors](https://github.com/opencv/opencv/tree/master/data/haarcascades).<br>\n",
    "- 3. Tuning of the model is another possibility. Different changes like adjusting the learning rate, increasing | decreasing the number of hidden layers, trying different optimizer or choosing different dropout can all improve the model performance.<br>\n",
    "- 4. Testing different pretrained architecture instead of VGG16.\n",
    "- 5. Adding more options for data augmentation. For example randomly converting images to black and gray could possibly help recognizing breeds, that have multiple color versions."
   ]
  },
  {
   "cell_type": "code",
   "execution_count": null,
   "metadata": {
    "scrolled": false
   },
   "outputs": [],
   "source": [
    "# Test app on pictures from dog_files and human_files\n",
    "for file in np.hstack((human_files[:3], dog_files[:3])):\n",
    "    run_app(file)"
   ]
  },
  {
   "cell_type": "code",
   "execution_count": null,
   "metadata": {},
   "outputs": [],
   "source": [
    "# Let's test a image of a ship.\n",
    "run_app('./test_images/liner_ship.jpg')"
   ]
  },
  {
   "cell_type": "code",
   "execution_count": null,
   "metadata": {},
   "outputs": [],
   "source": [
    "# What do you say about Beyonce?\n",
    "run_app('./test_images/beyonce.jpg')"
   ]
  },
  {
   "cell_type": "code",
   "execution_count": null,
   "metadata": {},
   "outputs": [],
   "source": [
    "# Let's trysome lovely Australian Shepherd.\n",
    "run_app('./test_images/australian_shepherd.jpg')"
   ]
  },
  {
   "cell_type": "code",
   "execution_count": null,
   "metadata": {},
   "outputs": [],
   "source": [
    "# Can the app recognize a hamburger?\n",
    "run_app('./test_images/hamburger.jpg')"
   ]
  },
  {
   "cell_type": "code",
   "execution_count": null,
   "metadata": {},
   "outputs": [],
   "source": [
    "# Let me introduce you to this wonderfull new dog breed, who looks like a real wolf :)\n",
    "run_app('./test_images/czechoslovakian_wolfdog.jpg')"
   ]
  },
  {
   "cell_type": "code",
   "execution_count": null,
   "metadata": {},
   "outputs": [],
   "source": [
    "# What will the app say about Prince Harry?\n",
    "run_app('./test_images/prince_harry.jpg')"
   ]
  },
  {
   "cell_type": "code",
   "execution_count": null,
   "metadata": {},
   "outputs": [],
   "source": [
    "# Finally the last dog breed tob= be tested: Alaskan malamute.\n",
    "run_app('./test_images/alaskan_malamute.jpg')"
   ]
  },
  {
   "cell_type": "markdown",
   "metadata": {},
   "source": [
    "*Image sources*<br>\n",
    "> [Ship](https://www.stuff.co.nz/travel/news/115045145/australian-man-dies-after-falling-overboard-from-worlds-biggest-cruise-ship)<br>\n",
    "> [Beyoncé](https://www.bbc.com/news/newsbeat-45082773)<br>\n",
    "> [Australian Sheperd](https://www.pets4homes.co.uk/dog-breeds/australian-shepherd/)<br>\n",
    "> [Hamburger](https://www.recipetineats.com/hamburger-recipe/)<br>\n",
    "> [Czechoslovakian Wolfdog](https://dogsnet.com/czechoslovakian-wolfdog/)<br>\n",
    "> [Prince Harry](https://happybday.to/Prince-Harry/photo?media=4513189)<br>\n",
    "> [Alaskan Malamute](https://puppytoob.com/20-most-dangerous-dog-breeds/)<br>"
   ]
  },
  {
   "cell_type": "code",
   "execution_count": null,
   "metadata": {},
   "outputs": [],
   "source": []
  }
 ],
 "metadata": {
  "anaconda-cloud": {},
  "kernelspec": {
   "display_name": "Python 3",
   "language": "python",
   "name": "python3"
  },
  "language_info": {
   "codemirror_mode": {
    "name": "ipython",
    "version": 3
   },
   "file_extension": ".py",
   "mimetype": "text/x-python",
   "name": "python",
   "nbconvert_exporter": "python",
   "pygments_lexer": "ipython3",
   "version": "3.8.5"
  }
 },
 "nbformat": 4,
 "nbformat_minor": 1
}
